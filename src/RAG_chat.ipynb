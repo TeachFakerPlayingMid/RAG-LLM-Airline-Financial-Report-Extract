{
 "cells": [
  {
   "cell_type": "code",
   "execution_count": 1,
   "metadata": {},
   "outputs": [
    {
     "name": "stdout",
     "output_type": "stream",
     "text": [
      "Note: you may need to restart the kernel to use updated packages.\n"
     ]
    },
    {
     "name": "stderr",
     "output_type": "stream",
     "text": [
      "WARNING: Skipping anyio as it is not installed.\n",
      "WARNING: Skipping certifi as it is not installed.\n",
      "WARNING: Skipping charset-normalizer as it is not installed.\n",
      "WARNING: Skipping h11 as it is not installed.\n",
      "WARNING: Skipping httpcore as it is not installed.\n",
      "WARNING: Skipping httpx as it is not installed.\n",
      "WARNING: Skipping idna as it is not installed.\n",
      "WARNING: Skipping requests as it is not installed.\n",
      "WARNING: Skipping sniffio as it is not installed.\n",
      "WARNING: Skipping urllib3 as it is not installed.\n",
      "WARNING: Skipping asyncio as it is not installed.\n",
      "WARNING: Skipping fastapi as it is not installed.\n",
      "WARNING: Skipping langchain as it is not installed.\n",
      "WARNING: Skipping langchain_community as it is not installed.\n",
      "WARNING: Skipping langchain_core as it is not installed.\n",
      "WARNING: Skipping langchain_openai as it is not installed.\n",
      "WARNING: Skipping langchainhub as it is not installed.\n",
      "WARNING: Skipping neo4j as it is not installed.\n",
      "WARNING: Skipping numpy as it is not installed.\n",
      "WARNING: Skipping openai as it is not installed.\n",
      "WARNING: Skipping opentelemetry-api as it is not installed.\n",
      "WARNING: Skipping pydantic as it is not installed.\n",
      "WARNING: Skipping uvicorn as it is not installed.\n",
      "WARNING: Skipping tiktoken as it is not installed.\n",
      "WARNING: Skipping chromadb as it is not installed.\n"
     ]
    }
   ],
   "source": [
    "pip uninstall -r requirements.txt -y"
   ]
  },
  {
   "cell_type": "code",
   "execution_count": 2,
   "metadata": {},
   "outputs": [
    {
     "name": "stdout",
     "output_type": "stream",
     "text": [
      "Note: you may need to restart the kernel to use updated packages.\n"
     ]
    },
    {
     "name": "stderr",
     "output_type": "stream",
     "text": [
      "WARNING: Skipping langchain as it is not installed.\n"
     ]
    }
   ],
   "source": [
    "pip uninstall langchain -y"
   ]
  },
  {
   "cell_type": "code",
   "execution_count": 3,
   "metadata": {},
   "outputs": [
    {
     "name": "stdout",
     "output_type": "stream",
     "text": [
      "Collecting anyio==4.3.0 (from -r requirements.txt (line 1))\n",
      "  Using cached anyio-4.3.0-py3-none-any.whl.metadata (4.6 kB)\n",
      "Collecting certifi==2024.2.2 (from -r requirements.txt (line 2))\n",
      "  Using cached certifi-2024.2.2-py3-none-any.whl.metadata (2.2 kB)\n",
      "Collecting charset-normalizer==3.3.2 (from -r requirements.txt (line 3))\n",
      "  Using cached charset_normalizer-3.3.2-cp311-cp311-win_amd64.whl.metadata (34 kB)\n",
      "Collecting h11==0.14.0 (from -r requirements.txt (line 4))\n",
      "  Using cached h11-0.14.0-py3-none-any.whl.metadata (8.2 kB)\n",
      "Collecting httpcore==1.0.3 (from -r requirements.txt (line 5))\n",
      "  Using cached httpcore-1.0.3-py3-none-any.whl.metadata (20 kB)\n",
      "Collecting httpx==0.26.0 (from -r requirements.txt (line 6))\n",
      "  Using cached httpx-0.26.0-py3-none-any.whl.metadata (7.6 kB)\n",
      "Collecting idna==3.6 (from -r requirements.txt (line 7))\n",
      "  Using cached idna-3.6-py3-none-any.whl.metadata (9.9 kB)\n",
      "Collecting requests==2.31.0 (from -r requirements.txt (line 8))\n",
      "  Using cached requests-2.31.0-py3-none-any.whl.metadata (4.6 kB)\n",
      "Collecting sniffio==1.3.0 (from -r requirements.txt (line 9))\n",
      "  Using cached sniffio-1.3.0-py3-none-any.whl.metadata (3.6 kB)\n",
      "Collecting urllib3==2.2.1 (from -r requirements.txt (line 10))\n",
      "  Using cached urllib3-2.2.1-py3-none-any.whl.metadata (6.4 kB)\n",
      "Collecting asyncio==3.4.3 (from -r requirements.txt (line 11))\n",
      "  Using cached asyncio-3.4.3-py3-none-any.whl.metadata (1.7 kB)\n",
      "Collecting fastapi==0.109.0 (from -r requirements.txt (line 12))\n",
      "  Using cached fastapi-0.109.0-py3-none-any.whl.metadata (24 kB)\n",
      "Collecting langchain==0.1.6 (from -r requirements.txt (line 13))\n",
      "  Using cached langchain-0.1.6-py3-none-any.whl.metadata (13 kB)\n",
      "Collecting langchain_community==0.0.19 (from -r requirements.txt (line 14))\n",
      "  Using cached langchain_community-0.0.19-py3-none-any.whl.metadata (7.9 kB)\n",
      "Collecting langchain_core==0.1.23 (from -r requirements.txt (line 15))\n",
      "  Using cached langchain_core-0.1.23-py3-none-any.whl.metadata (6.0 kB)\n",
      "Collecting langchain_openai==0.0.2 (from -r requirements.txt (line 16))\n",
      "  Using cached langchain_openai-0.0.2-py3-none-any.whl.metadata (570 bytes)\n",
      "Collecting langchainhub==0.1.14 (from -r requirements.txt (line 17))\n",
      "  Using cached langchainhub-0.1.14-py3-none-any.whl.metadata (478 bytes)\n",
      "Collecting neo4j==5.14.1 (from -r requirements.txt (line 18))\n",
      "  Using cached neo4j-5.14.1-py3-none-any.whl\n",
      "Collecting numpy==1.26.2 (from -r requirements.txt (line 19))\n",
      "  Using cached numpy-1.26.2-cp311-cp311-win_amd64.whl.metadata (61 kB)\n",
      "Collecting openai==1.7.2 (from -r requirements.txt (line 20))\n",
      "  Using cached openai-1.7.2-py3-none-any.whl.metadata (17 kB)\n",
      "Collecting opentelemetry-api==1.22.0 (from -r requirements.txt (line 21))\n",
      "  Using cached opentelemetry_api-1.22.0-py3-none-any.whl.metadata (1.4 kB)\n",
      "Collecting pydantic==2.5.1 (from -r requirements.txt (line 22))\n",
      "  Using cached pydantic-2.5.1-py3-none-any.whl.metadata (64 kB)\n",
      "Collecting uvicorn==0.25.0 (from -r requirements.txt (line 23))\n",
      "  Using cached uvicorn-0.25.0-py3-none-any.whl.metadata (6.4 kB)\n",
      "Collecting tiktoken==0.5.1 (from -r requirements.txt (line 24))\n",
      "  Using cached tiktoken-0.5.1-cp311-cp311-win_amd64.whl.metadata (6.8 kB)\n",
      "Collecting chromadb==0.4.15 (from -r requirements.txt (line 25))\n",
      "  Using cached chromadb-0.4.15-py3-none-any.whl.metadata (7.2 kB)\n",
      "Requirement already satisfied: starlette<0.36.0,>=0.35.0 in c:\\users\\tys\\appdata\\local\\programs\\python\\python311\\lib\\site-packages (from fastapi==0.109.0->-r requirements.txt (line 12)) (0.35.1)\n",
      "Requirement already satisfied: typing-extensions>=4.8.0 in c:\\users\\tys\\appdata\\local\\programs\\python\\python311\\lib\\site-packages (from fastapi==0.109.0->-r requirements.txt (line 12)) (4.9.0)\n",
      "Requirement already satisfied: PyYAML>=5.3 in c:\\users\\tys\\appdata\\local\\programs\\python\\python311\\lib\\site-packages (from langchain==0.1.6->-r requirements.txt (line 13)) (6.0)\n",
      "Requirement already satisfied: SQLAlchemy<3,>=1.4 in c:\\users\\tys\\appdata\\local\\programs\\python\\python311\\lib\\site-packages (from langchain==0.1.6->-r requirements.txt (line 13)) (2.0.25)\n",
      "Requirement already satisfied: aiohttp<4.0.0,>=3.8.3 in c:\\users\\tys\\appdata\\local\\programs\\python\\python311\\lib\\site-packages (from langchain==0.1.6->-r requirements.txt (line 13)) (3.9.3)\n",
      "Requirement already satisfied: dataclasses-json<0.7,>=0.5.7 in c:\\users\\tys\\appdata\\local\\programs\\python\\python311\\lib\\site-packages (from langchain==0.1.6->-r requirements.txt (line 13)) (0.6.4)\n",
      "Requirement already satisfied: jsonpatch<2.0,>=1.33 in c:\\users\\tys\\appdata\\local\\programs\\python\\python311\\lib\\site-packages (from langchain==0.1.6->-r requirements.txt (line 13)) (1.33)\n",
      "Requirement already satisfied: langsmith<0.1,>=0.0.83 in c:\\users\\tys\\appdata\\local\\programs\\python\\python311\\lib\\site-packages (from langchain==0.1.6->-r requirements.txt (line 13)) (0.0.87)\n",
      "Requirement already satisfied: tenacity<9.0.0,>=8.1.0 in c:\\users\\tys\\appdata\\local\\programs\\python\\python311\\lib\\site-packages (from langchain==0.1.6->-r requirements.txt (line 13)) (8.2.3)\n",
      "Requirement already satisfied: packaging<24.0,>=23.2 in c:\\users\\tys\\appdata\\local\\programs\\python\\python311\\lib\\site-packages (from langchain_core==0.1.23->-r requirements.txt (line 15)) (23.2)\n",
      "INFO: pip is looking at multiple versions of langchain-openai to determine which version is compatible with other requirements. This could take a while.\n",
      "\n",
      "The conflict is caused by:\n",
      "    The user requested tiktoken==0.5.1\n",
      "    langchain-openai 0.0.2 depends on tiktoken<0.6.0 and >=0.5.2\n",
      "\n",
      "To fix this you could try to:\n",
      "1. loosen the range of package versions you've specified\n",
      "2. remove package versions to allow pip attempt to solve the dependency conflict\n",
      "\n"
     ]
    },
    {
     "name": "stderr",
     "output_type": "stream",
     "text": [
      "ERROR: Cannot install -r requirements.txt (line 16) and tiktoken==0.5.1 because these package versions have conflicting dependencies.\n",
      "ERROR: ResolutionImpossible: for help visit https://pip.pypa.io/en/latest/topics/dependency-resolution/#dealing-with-dependency-conflicts\n"
     ]
    }
   ],
   "source": [
    "!pip install -r requirements.txt"
   ]
  },
  {
   "cell_type": "code",
   "execution_count": null,
   "metadata": {},
   "outputs": [],
   "source": [
    "! pip install langchain huggingface_hub transformers sentence_transformers accelerate bitsandbytes"
   ]
  },
  {
   "cell_type": "code",
   "execution_count": null,
   "metadata": {},
   "outputs": [],
   "source": [
    "! pip install pypdf faiss-cpu"
   ]
  },
  {
   "cell_type": "code",
   "execution_count": 55,
   "metadata": {},
   "outputs": [],
   "source": [
    "from getpass import getpass\n",
    "HUGGINGFACE_API_TOKEN = getpass()"
   ]
  },
  {
   "cell_type": "code",
   "execution_count": 56,
   "metadata": {},
   "outputs": [],
   "source": [
    "import os\n",
    "os.environ[\"HUGGINGFACE_API_TOKEN\"]=HUGGINGFACE_API_TOKEN"
   ]
  },
  {
   "cell_type": "code",
   "execution_count": 8,
   "metadata": {},
   "outputs": [
    {
     "name": "stdout",
     "output_type": "stream",
     "text": [
      "Collecting langchain==0.1.6\n",
      "  Using cached langchain-0.1.6-py3-none-any.whl.metadata (13 kB)\n",
      "Requirement already satisfied: PyYAML>=5.3 in c:\\users\\tys\\appdata\\local\\programs\\python\\python311\\lib\\site-packages (from langchain==0.1.6) (6.0)\n",
      "Requirement already satisfied: SQLAlchemy<3,>=1.4 in c:\\users\\tys\\appdata\\local\\programs\\python\\python311\\lib\\site-packages (from langchain==0.1.6) (2.0.25)\n",
      "Requirement already satisfied: aiohttp<4.0.0,>=3.8.3 in c:\\users\\tys\\appdata\\local\\programs\\python\\python311\\lib\\site-packages (from langchain==0.1.6) (3.9.3)\n",
      "Requirement already satisfied: dataclasses-json<0.7,>=0.5.7 in c:\\users\\tys\\appdata\\local\\programs\\python\\python311\\lib\\site-packages (from langchain==0.1.6) (0.6.4)\n",
      "Requirement already satisfied: jsonpatch<2.0,>=1.33 in c:\\users\\tys\\appdata\\local\\programs\\python\\python311\\lib\\site-packages (from langchain==0.1.6) (1.33)\n",
      "Collecting langchain-community<0.1,>=0.0.18 (from langchain==0.1.6)\n",
      "  Using cached langchain_community-0.0.31-py3-none-any.whl.metadata (8.4 kB)\n",
      "Collecting langchain-core<0.2,>=0.1.22 (from langchain==0.1.6)\n",
      "  Using cached langchain_core-0.1.38-py3-none-any.whl.metadata (6.0 kB)\n",
      "Requirement already satisfied: langsmith<0.1,>=0.0.83 in c:\\users\\tys\\appdata\\local\\programs\\python\\python311\\lib\\site-packages (from langchain==0.1.6) (0.0.87)\n",
      "Collecting numpy<2,>=1 (from langchain==0.1.6)\n",
      "  Using cached numpy-1.26.4-cp311-cp311-win_amd64.whl.metadata (61 kB)\n",
      "Collecting pydantic<3,>=1 (from langchain==0.1.6)\n",
      "  Downloading pydantic-2.6.4-py3-none-any.whl.metadata (85 kB)\n",
      "     ---------------------------------------- 0.0/85.1 kB ? eta -:--:--\n",
      "     -------------------------------------- - 81.9/85.1 kB 2.2 MB/s eta 0:00:01\n",
      "     ---------------------------------------- 85.1/85.1 kB 1.6 MB/s eta 0:00:00\n",
      "Collecting requests<3,>=2 (from langchain==0.1.6)\n",
      "  Using cached requests-2.31.0-py3-none-any.whl.metadata (4.6 kB)\n",
      "Requirement already satisfied: tenacity<9.0.0,>=8.1.0 in c:\\users\\tys\\appdata\\local\\programs\\python\\python311\\lib\\site-packages (from langchain==0.1.6) (8.2.3)\n",
      "Requirement already satisfied: aiosignal>=1.1.2 in c:\\users\\tys\\appdata\\local\\programs\\python\\python311\\lib\\site-packages (from aiohttp<4.0.0,>=3.8.3->langchain==0.1.6) (1.3.1)\n",
      "Requirement already satisfied: attrs>=17.3.0 in c:\\users\\tys\\appdata\\local\\programs\\python\\python311\\lib\\site-packages (from aiohttp<4.0.0,>=3.8.3->langchain==0.1.6) (23.1.0)\n",
      "Requirement already satisfied: frozenlist>=1.1.1 in c:\\users\\tys\\appdata\\local\\programs\\python\\python311\\lib\\site-packages (from aiohttp<4.0.0,>=3.8.3->langchain==0.1.6) (1.4.1)\n",
      "Requirement already satisfied: multidict<7.0,>=4.5 in c:\\users\\tys\\appdata\\local\\programs\\python\\python311\\lib\\site-packages (from aiohttp<4.0.0,>=3.8.3->langchain==0.1.6) (6.0.5)\n",
      "Requirement already satisfied: yarl<2.0,>=1.0 in c:\\users\\tys\\appdata\\local\\programs\\python\\python311\\lib\\site-packages (from aiohttp<4.0.0,>=3.8.3->langchain==0.1.6) (1.9.4)\n",
      "Requirement already satisfied: marshmallow<4.0.0,>=3.18.0 in c:\\users\\tys\\appdata\\local\\programs\\python\\python311\\lib\\site-packages (from dataclasses-json<0.7,>=0.5.7->langchain==0.1.6) (3.21.1)\n",
      "Requirement already satisfied: typing-inspect<1,>=0.4.0 in c:\\users\\tys\\appdata\\local\\programs\\python\\python311\\lib\\site-packages (from dataclasses-json<0.7,>=0.5.7->langchain==0.1.6) (0.9.0)\n",
      "Requirement already satisfied: jsonpointer>=1.9 in c:\\users\\tys\\appdata\\roaming\\python\\python311\\site-packages (from jsonpatch<2.0,>=1.33->langchain==0.1.6) (2.4)\n",
      "INFO: pip is looking at multiple versions of langchain-community to determine which version is compatible with other requirements. This could take a while.\n",
      "Collecting langchain-community<0.1,>=0.0.18 (from langchain==0.1.6)\n",
      "  Using cached langchain_community-0.0.30-py3-none-any.whl.metadata (8.4 kB)\n",
      "  Using cached langchain_community-0.0.29-py3-none-any.whl.metadata (8.3 kB)\n",
      "  Using cached langchain_community-0.0.28-py3-none-any.whl.metadata (8.3 kB)\n",
      "  Using cached langchain_community-0.0.27-py3-none-any.whl.metadata (8.2 kB)\n",
      "  Using cached langchain_community-0.0.26-py3-none-any.whl.metadata (8.2 kB)\n",
      "  Using cached langchain_community-0.0.25-py3-none-any.whl.metadata (8.1 kB)\n",
      "  Using cached langchain_community-0.0.24-py3-none-any.whl.metadata (8.1 kB)\n",
      "INFO: pip is still looking at multiple versions of langchain-community to determine which version is compatible with other requirements. This could take a while.\n",
      "  Using cached langchain_community-0.0.23-py3-none-any.whl.metadata (8.1 kB)\n",
      "  Using cached langchain_community-0.0.22-py3-none-any.whl.metadata (8.1 kB)\n",
      "  Using cached langchain_community-0.0.21-py3-none-any.whl.metadata (8.1 kB)\n",
      "  Using cached langchain_community-0.0.20-py3-none-any.whl.metadata (8.1 kB)\n",
      "INFO: pip is looking at multiple versions of langchain-core to determine which version is compatible with other requirements. This could take a while.\n",
      "Collecting langchain-core<0.2,>=0.1.22 (from langchain==0.1.6)\n",
      "  Using cached langchain_core-0.1.37-py3-none-any.whl.metadata (6.0 kB)\n",
      "  Using cached langchain_core-0.1.36-py3-none-any.whl.metadata (6.0 kB)\n",
      "  Using cached langchain_core-0.1.35-py3-none-any.whl.metadata (6.0 kB)\n",
      "  Using cached langchain_core-0.1.34-py3-none-any.whl.metadata (6.0 kB)\n",
      "  Using cached langchain_core-0.1.33-py3-none-any.whl.metadata (6.0 kB)\n",
      "Collecting anyio<5,>=3 (from langchain-core<0.2,>=0.1.22->langchain==0.1.6)\n",
      "  Using cached anyio-4.3.0-py3-none-any.whl.metadata (4.6 kB)\n",
      "Collecting langchain-core<0.2,>=0.1.22 (from langchain==0.1.6)\n",
      "  Using cached langchain_core-0.1.32-py3-none-any.whl.metadata (6.0 kB)\n",
      "  Using cached langchain_core-0.1.31-py3-none-any.whl.metadata (6.0 kB)\n",
      "INFO: pip is still looking at multiple versions of langchain-core to determine which version is compatible with other requirements. This could take a while.\n",
      "  Using cached langchain_core-0.1.30-py3-none-any.whl.metadata (6.0 kB)\n",
      "  Using cached langchain_core-0.1.29-py3-none-any.whl.metadata (6.0 kB)\n",
      "  Using cached langchain_core-0.1.28-py3-none-any.whl.metadata (6.0 kB)\n",
      "  Using cached langchain_core-0.1.27-py3-none-any.whl.metadata (6.0 kB)\n",
      "  Using cached langchain_core-0.1.26-py3-none-any.whl.metadata (6.0 kB)\n",
      "INFO: This is taking longer than usual. You might need to provide the dependency resolver with stricter constraints to reduce runtime. See https://pip.pypa.io/warnings/backtracking for guidance. If you want to abort this run, press Ctrl + C.\n",
      "  Using cached langchain_core-0.1.25-py3-none-any.whl.metadata (6.0 kB)\n",
      "  Using cached langchain_core-0.1.24-py3-none-any.whl.metadata (6.0 kB)\n",
      "  Using cached langchain_core-0.1.23-py3-none-any.whl.metadata (6.0 kB)\n",
      "Requirement already satisfied: packaging<24.0,>=23.2 in c:\\users\\tys\\appdata\\local\\programs\\python\\python311\\lib\\site-packages (from langchain-core<0.2,>=0.1.22->langchain==0.1.6) (23.2)\n",
      "Requirement already satisfied: annotated-types>=0.4.0 in c:\\users\\tys\\appdata\\local\\programs\\python\\python311\\lib\\site-packages (from pydantic<3,>=1->langchain==0.1.6) (0.6.0)\n",
      "Collecting pydantic-core==2.16.3 (from pydantic<3,>=1->langchain==0.1.6)\n",
      "  Downloading pydantic_core-2.16.3-cp311-none-win_amd64.whl.metadata (6.6 kB)\n",
      "Requirement already satisfied: typing-extensions>=4.6.1 in c:\\users\\tys\\appdata\\local\\programs\\python\\python311\\lib\\site-packages (from pydantic<3,>=1->langchain==0.1.6) (4.9.0)\n",
      "Collecting charset-normalizer<4,>=2 (from requests<3,>=2->langchain==0.1.6)\n",
      "  Using cached charset_normalizer-3.3.2-cp311-cp311-win_amd64.whl.metadata (34 kB)\n",
      "Collecting idna<4,>=2.5 (from requests<3,>=2->langchain==0.1.6)\n",
      "  Using cached idna-3.6-py3-none-any.whl.metadata (9.9 kB)\n",
      "Collecting urllib3<3,>=1.21.1 (from requests<3,>=2->langchain==0.1.6)\n",
      "  Using cached urllib3-2.2.1-py3-none-any.whl.metadata (6.4 kB)\n",
      "Collecting certifi>=2017.4.17 (from requests<3,>=2->langchain==0.1.6)\n",
      "  Using cached certifi-2024.2.2-py3-none-any.whl.metadata (2.2 kB)\n",
      "Requirement already satisfied: greenlet!=0.4.17 in c:\\users\\tys\\appdata\\local\\programs\\python\\python311\\lib\\site-packages (from SQLAlchemy<3,>=1.4->langchain==0.1.6) (3.0.3)\n",
      "Collecting sniffio>=1.1 (from anyio<5,>=3->langchain-core<0.2,>=0.1.22->langchain==0.1.6)\n",
      "  Downloading sniffio-1.3.1-py3-none-any.whl.metadata (3.9 kB)\n",
      "Requirement already satisfied: mypy-extensions>=0.3.0 in c:\\users\\tys\\appdata\\local\\programs\\python\\python311\\lib\\site-packages (from typing-inspect<1,>=0.4.0->dataclasses-json<0.7,>=0.5.7->langchain==0.1.6) (0.4.3)\n",
      "Downloading langchain-0.1.6-py3-none-any.whl (811 kB)\n",
      "   ---------------------------------------- 0.0/811.8 kB ? eta -:--:--\n",
      "   ------------- -------------------------- 276.5/811.8 kB 5.8 MB/s eta 0:00:01\n",
      "   --------------------------------------  809.0/811.8 kB 10.2 MB/s eta 0:00:01\n",
      "   ---------------------------------------- 811.8/811.8 kB 7.4 MB/s eta 0:00:00\n",
      "Using cached langchain_community-0.0.20-py3-none-any.whl (1.7 MB)\n",
      "Using cached langchain_core-0.1.23-py3-none-any.whl (241 kB)\n",
      "Using cached numpy-1.26.4-cp311-cp311-win_amd64.whl (15.8 MB)\n",
      "Downloading pydantic-2.6.4-py3-none-any.whl (394 kB)\n",
      "   ---------------------------------------- 0.0/394.9 kB ? eta -:--:--\n",
      "   --------------------------------------- 394.9/394.9 kB 12.4 MB/s eta 0:00:00\n",
      "Downloading pydantic_core-2.16.3-cp311-none-win_amd64.whl (1.9 MB)\n",
      "   ---------------------------------------- 0.0/1.9 MB ? eta -:--:--\n",
      "   -------------- ------------------------- 0.7/1.9 MB 14.7 MB/s eta 0:00:01\n",
      "   -------------------------------------- - 1.8/1.9 MB 19.4 MB/s eta 0:00:01\n",
      "   ---------------------------------------- 1.9/1.9 MB 17.2 MB/s eta 0:00:00\n",
      "Downloading requests-2.31.0-py3-none-any.whl (62 kB)\n",
      "   ---------------------------------------- 0.0/62.6 kB ? eta -:--:--\n",
      "   ---------------------------------------- 62.6/62.6 kB 3.3 MB/s eta 0:00:00\n",
      "Using cached anyio-4.3.0-py3-none-any.whl (85 kB)\n",
      "Using cached certifi-2024.2.2-py3-none-any.whl (163 kB)\n",
      "Downloading charset_normalizer-3.3.2-cp311-cp311-win_amd64.whl (99 kB)\n",
      "   ---------------------------------------- 0.0/99.9 kB ? eta -:--:--\n",
      "   ---------------------------------------- 99.9/99.9 kB 6.0 MB/s eta 0:00:00\n",
      "Using cached idna-3.6-py3-none-any.whl (61 kB)\n",
      "Using cached urllib3-2.2.1-py3-none-any.whl (121 kB)\n",
      "Downloading sniffio-1.3.1-py3-none-any.whl (10 kB)\n",
      "Installing collected packages: urllib3, sniffio, pydantic-core, numpy, idna, charset-normalizer, certifi, requests, pydantic, anyio, langchain-core, langchain-community, langchain\n",
      "  Attempting uninstall: pydantic-core\n",
      "    Found existing installation: pydantic_core 2.14.3\n",
      "    Uninstalling pydantic_core-2.14.3:\n",
      "      Successfully uninstalled pydantic_core-2.14.3\n",
      "Successfully installed anyio-4.3.0 certifi-2024.2.2 charset-normalizer-3.3.2 idna-3.6 langchain-0.1.6 langchain-community-0.0.20 langchain-core-0.1.23 numpy-1.26.4 pydantic-2.6.4 pydantic-core-2.16.3 requests-2.31.0 sniffio-1.3.1 urllib3-2.2.1\n",
      "Collecting langchain_community==0.0.19\n",
      "  Using cached langchain_community-0.0.19-py3-none-any.whl.metadata (7.9 kB)\n",
      "Requirement already satisfied: PyYAML>=5.3 in c:\\users\\tys\\appdata\\local\\programs\\python\\python311\\lib\\site-packages (from langchain_community==0.0.19) (6.0)\n",
      "Requirement already satisfied: SQLAlchemy<3,>=1.4 in c:\\users\\tys\\appdata\\local\\programs\\python\\python311\\lib\\site-packages (from langchain_community==0.0.19) (2.0.25)\n",
      "Requirement already satisfied: aiohttp<4.0.0,>=3.8.3 in c:\\users\\tys\\appdata\\local\\programs\\python\\python311\\lib\\site-packages (from langchain_community==0.0.19) (3.9.3)\n",
      "Requirement already satisfied: dataclasses-json<0.7,>=0.5.7 in c:\\users\\tys\\appdata\\local\\programs\\python\\python311\\lib\\site-packages (from langchain_community==0.0.19) (0.6.4)\n",
      "Requirement already satisfied: langchain-core<0.2,>=0.1.21 in c:\\users\\tys\\appdata\\local\\programs\\python\\python311\\lib\\site-packages (from langchain_community==0.0.19) (0.1.23)\n",
      "Requirement already satisfied: langsmith<0.1,>=0.0.83 in c:\\users\\tys\\appdata\\local\\programs\\python\\python311\\lib\\site-packages (from langchain_community==0.0.19) (0.0.87)\n",
      "Requirement already satisfied: numpy<2,>=1 in c:\\users\\tys\\appdata\\local\\programs\\python\\python311\\lib\\site-packages (from langchain_community==0.0.19) (1.26.4)\n",
      "Requirement already satisfied: requests<3,>=2 in c:\\users\\tys\\appdata\\local\\programs\\python\\python311\\lib\\site-packages (from langchain_community==0.0.19) (2.31.0)\n",
      "Requirement already satisfied: tenacity<9.0.0,>=8.1.0 in c:\\users\\tys\\appdata\\local\\programs\\python\\python311\\lib\\site-packages (from langchain_community==0.0.19) (8.2.3)\n",
      "Requirement already satisfied: aiosignal>=1.1.2 in c:\\users\\tys\\appdata\\local\\programs\\python\\python311\\lib\\site-packages (from aiohttp<4.0.0,>=3.8.3->langchain_community==0.0.19) (1.3.1)\n",
      "Requirement already satisfied: attrs>=17.3.0 in c:\\users\\tys\\appdata\\local\\programs\\python\\python311\\lib\\site-packages (from aiohttp<4.0.0,>=3.8.3->langchain_community==0.0.19) (23.1.0)\n",
      "Requirement already satisfied: frozenlist>=1.1.1 in c:\\users\\tys\\appdata\\local\\programs\\python\\python311\\lib\\site-packages (from aiohttp<4.0.0,>=3.8.3->langchain_community==0.0.19) (1.4.1)\n",
      "Requirement already satisfied: multidict<7.0,>=4.5 in c:\\users\\tys\\appdata\\local\\programs\\python\\python311\\lib\\site-packages (from aiohttp<4.0.0,>=3.8.3->langchain_community==0.0.19) (6.0.5)\n",
      "Requirement already satisfied: yarl<2.0,>=1.0 in c:\\users\\tys\\appdata\\local\\programs\\python\\python311\\lib\\site-packages (from aiohttp<4.0.0,>=3.8.3->langchain_community==0.0.19) (1.9.4)\n",
      "Requirement already satisfied: marshmallow<4.0.0,>=3.18.0 in c:\\users\\tys\\appdata\\local\\programs\\python\\python311\\lib\\site-packages (from dataclasses-json<0.7,>=0.5.7->langchain_community==0.0.19) (3.21.1)\n",
      "Requirement already satisfied: typing-inspect<1,>=0.4.0 in c:\\users\\tys\\appdata\\local\\programs\\python\\python311\\lib\\site-packages (from dataclasses-json<0.7,>=0.5.7->langchain_community==0.0.19) (0.9.0)\n",
      "Requirement already satisfied: anyio<5,>=3 in c:\\users\\tys\\appdata\\local\\programs\\python\\python311\\lib\\site-packages (from langchain-core<0.2,>=0.1.21->langchain_community==0.0.19) (4.3.0)\n",
      "Requirement already satisfied: jsonpatch<2.0,>=1.33 in c:\\users\\tys\\appdata\\local\\programs\\python\\python311\\lib\\site-packages (from langchain-core<0.2,>=0.1.21->langchain_community==0.0.19) (1.33)\n",
      "Requirement already satisfied: packaging<24.0,>=23.2 in c:\\users\\tys\\appdata\\local\\programs\\python\\python311\\lib\\site-packages (from langchain-core<0.2,>=0.1.21->langchain_community==0.0.19) (23.2)\n",
      "Requirement already satisfied: pydantic<3,>=1 in c:\\users\\tys\\appdata\\local\\programs\\python\\python311\\lib\\site-packages (from langchain-core<0.2,>=0.1.21->langchain_community==0.0.19) (2.6.4)\n",
      "Requirement already satisfied: charset-normalizer<4,>=2 in c:\\users\\tys\\appdata\\local\\programs\\python\\python311\\lib\\site-packages (from requests<3,>=2->langchain_community==0.0.19) (3.3.2)\n",
      "Requirement already satisfied: idna<4,>=2.5 in c:\\users\\tys\\appdata\\local\\programs\\python\\python311\\lib\\site-packages (from requests<3,>=2->langchain_community==0.0.19) (3.6)\n",
      "Requirement already satisfied: urllib3<3,>=1.21.1 in c:\\users\\tys\\appdata\\local\\programs\\python\\python311\\lib\\site-packages (from requests<3,>=2->langchain_community==0.0.19) (2.2.1)\n",
      "Requirement already satisfied: certifi>=2017.4.17 in c:\\users\\tys\\appdata\\local\\programs\\python\\python311\\lib\\site-packages (from requests<3,>=2->langchain_community==0.0.19) (2024.2.2)\n",
      "Requirement already satisfied: typing-extensions>=4.6.0 in c:\\users\\tys\\appdata\\local\\programs\\python\\python311\\lib\\site-packages (from SQLAlchemy<3,>=1.4->langchain_community==0.0.19) (4.9.0)\n",
      "Requirement already satisfied: greenlet!=0.4.17 in c:\\users\\tys\\appdata\\local\\programs\\python\\python311\\lib\\site-packages (from SQLAlchemy<3,>=1.4->langchain_community==0.0.19) (3.0.3)\n",
      "Requirement already satisfied: sniffio>=1.1 in c:\\users\\tys\\appdata\\local\\programs\\python\\python311\\lib\\site-packages (from anyio<5,>=3->langchain-core<0.2,>=0.1.21->langchain_community==0.0.19) (1.3.1)\n",
      "Requirement already satisfied: jsonpointer>=1.9 in c:\\users\\tys\\appdata\\roaming\\python\\python311\\site-packages (from jsonpatch<2.0,>=1.33->langchain-core<0.2,>=0.1.21->langchain_community==0.0.19) (2.4)\n",
      "Requirement already satisfied: annotated-types>=0.4.0 in c:\\users\\tys\\appdata\\local\\programs\\python\\python311\\lib\\site-packages (from pydantic<3,>=1->langchain-core<0.2,>=0.1.21->langchain_community==0.0.19) (0.6.0)\n",
      "Requirement already satisfied: pydantic-core==2.16.3 in c:\\users\\tys\\appdata\\local\\programs\\python\\python311\\lib\\site-packages (from pydantic<3,>=1->langchain-core<0.2,>=0.1.21->langchain_community==0.0.19) (2.16.3)\n",
      "Requirement already satisfied: mypy-extensions>=0.3.0 in c:\\users\\tys\\appdata\\local\\programs\\python\\python311\\lib\\site-packages (from typing-inspect<1,>=0.4.0->dataclasses-json<0.7,>=0.5.7->langchain_community==0.0.19) (0.4.3)\n",
      "Downloading langchain_community-0.0.19-py3-none-any.whl (1.6 MB)\n",
      "   ---------------------------------------- 0.0/1.6 MB ? eta -:--:--\n",
      "   ---- ----------------------------------- 0.2/1.6 MB 4.1 MB/s eta 0:00:01\n",
      "   -------------------------- ------------- 1.1/1.6 MB 10.0 MB/s eta 0:00:01\n",
      "   ---------------------------------------  1.6/1.6 MB 11.6 MB/s eta 0:00:01\n",
      "   ---------------------------------------  1.6/1.6 MB 11.6 MB/s eta 0:00:01\n",
      "   ---------------------------------------- 1.6/1.6 MB 8.1 MB/s eta 0:00:00\n",
      "Installing collected packages: langchain_community\n",
      "  Attempting uninstall: langchain_community\n",
      "    Found existing installation: langchain-community 0.0.20\n",
      "    Uninstalling langchain-community-0.0.20:\n",
      "      Successfully uninstalled langchain-community-0.0.20\n",
      "Successfully installed langchain_community-0.0.19\n",
      "Requirement already satisfied: langchain_core==0.1.23 in c:\\users\\tys\\appdata\\local\\programs\\python\\python311\\lib\\site-packages (0.1.23)\n",
      "Requirement already satisfied: PyYAML>=5.3 in c:\\users\\tys\\appdata\\local\\programs\\python\\python311\\lib\\site-packages (from langchain_core==0.1.23) (6.0)\n",
      "Requirement already satisfied: anyio<5,>=3 in c:\\users\\tys\\appdata\\local\\programs\\python\\python311\\lib\\site-packages (from langchain_core==0.1.23) (4.3.0)\n",
      "Requirement already satisfied: jsonpatch<2.0,>=1.33 in c:\\users\\tys\\appdata\\local\\programs\\python\\python311\\lib\\site-packages (from langchain_core==0.1.23) (1.33)\n",
      "Requirement already satisfied: langsmith<0.0.88,>=0.0.87 in c:\\users\\tys\\appdata\\local\\programs\\python\\python311\\lib\\site-packages (from langchain_core==0.1.23) (0.0.87)\n",
      "Requirement already satisfied: packaging<24.0,>=23.2 in c:\\users\\tys\\appdata\\local\\programs\\python\\python311\\lib\\site-packages (from langchain_core==0.1.23) (23.2)\n",
      "Requirement already satisfied: pydantic<3,>=1 in c:\\users\\tys\\appdata\\local\\programs\\python\\python311\\lib\\site-packages (from langchain_core==0.1.23) (2.6.4)\n",
      "Requirement already satisfied: requests<3,>=2 in c:\\users\\tys\\appdata\\local\\programs\\python\\python311\\lib\\site-packages (from langchain_core==0.1.23) (2.31.0)\n",
      "Requirement already satisfied: tenacity<9.0.0,>=8.1.0 in c:\\users\\tys\\appdata\\local\\programs\\python\\python311\\lib\\site-packages (from langchain_core==0.1.23) (8.2.3)\n",
      "Requirement already satisfied: idna>=2.8 in c:\\users\\tys\\appdata\\local\\programs\\python\\python311\\lib\\site-packages (from anyio<5,>=3->langchain_core==0.1.23) (3.6)\n",
      "Requirement already satisfied: sniffio>=1.1 in c:\\users\\tys\\appdata\\local\\programs\\python\\python311\\lib\\site-packages (from anyio<5,>=3->langchain_core==0.1.23) (1.3.1)\n",
      "Requirement already satisfied: jsonpointer>=1.9 in c:\\users\\tys\\appdata\\roaming\\python\\python311\\site-packages (from jsonpatch<2.0,>=1.33->langchain_core==0.1.23) (2.4)\n",
      "Requirement already satisfied: annotated-types>=0.4.0 in c:\\users\\tys\\appdata\\local\\programs\\python\\python311\\lib\\site-packages (from pydantic<3,>=1->langchain_core==0.1.23) (0.6.0)\n",
      "Requirement already satisfied: pydantic-core==2.16.3 in c:\\users\\tys\\appdata\\local\\programs\\python\\python311\\lib\\site-packages (from pydantic<3,>=1->langchain_core==0.1.23) (2.16.3)\n",
      "Requirement already satisfied: typing-extensions>=4.6.1 in c:\\users\\tys\\appdata\\local\\programs\\python\\python311\\lib\\site-packages (from pydantic<3,>=1->langchain_core==0.1.23) (4.9.0)\n",
      "Requirement already satisfied: charset-normalizer<4,>=2 in c:\\users\\tys\\appdata\\local\\programs\\python\\python311\\lib\\site-packages (from requests<3,>=2->langchain_core==0.1.23) (3.3.2)\n",
      "Requirement already satisfied: urllib3<3,>=1.21.1 in c:\\users\\tys\\appdata\\local\\programs\\python\\python311\\lib\\site-packages (from requests<3,>=2->langchain_core==0.1.23) (2.2.1)\n",
      "Requirement already satisfied: certifi>=2017.4.17 in c:\\users\\tys\\appdata\\local\\programs\\python\\python311\\lib\\site-packages (from requests<3,>=2->langchain_core==0.1.23) (2024.2.2)\n"
     ]
    }
   ],
   "source": [
    "!pip install langchain==0.1.6\n",
    "!pip install langchain_community==0.0.19\n",
    "!pip install langchain_core==0.1.23"
   ]
  },
  {
   "cell_type": "code",
   "execution_count": 52,
   "metadata": {},
   "outputs": [],
   "source": [
    "from langchain_community.llms import HuggingFaceHub\n",
    "from langchain.chains import LLMChain\n",
    "from langchain.prompts import PromptTemplate"
   ]
  },
  {
   "cell_type": "code",
   "execution_count": 53,
   "metadata": {},
   "outputs": [],
   "source": [
    "question = \"What is the capital of France?\"\n",
    "template = \"\"\"Question: {question}\n",
    "                Answer: Let's think step by step.\"\"\"\n",
    "\n",
    "prompt = PromptTemplate(template=template,input_variables=[\"question\"])"
   ]
  },
  {
   "cell_type": "code",
   "execution_count": 54,
   "metadata": {},
   "outputs": [],
   "source": [
    "repo_id = \"McGill-NLP/flan-t5-large-weblinx\""
   ]
  },
  {
   "cell_type": "code",
   "execution_count": 12,
   "metadata": {},
   "outputs": [
    {
     "name": "stderr",
     "output_type": "stream",
     "text": [
      "c:\\Users\\TYS\\AppData\\Local\\Programs\\Python\\Python311\\Lib\\site-packages\\tqdm\\auto.py:21: TqdmWarning: IProgress not found. Please update jupyter and ipywidgets. See https://ipywidgets.readthedocs.io/en/stable/user_install.html\n",
      "  from .autonotebook import tqdm as notebook_tqdm\n",
      "c:\\Users\\TYS\\AppData\\Local\\Programs\\Python\\Python311\\Lib\\site-packages\\langchain_core\\_api\\deprecation.py:117: LangChainDeprecationWarning: The function `run` was deprecated in LangChain 0.1.0 and will be removed in 0.2.0. Use invoke instead.\n",
      "  warn_deprecated(\n"
     ]
    },
    {
     "name": "stdout",
     "output_type": "stream",
     "text": [
      "Question: What is the capital of France?\n",
      "                Answer: Let's think step by step.swer is Paris.\n"
     ]
    }
   ],
   "source": [
    "llm = HuggingFaceHub(repo_id=repo_id,huggingfacehub_api_token=os.environ[\"HUGGINGFACE_API_TOKEN\"])\n",
    "llm_chain = LLMChain(llm=llm,prompt=prompt,llm_kwargs={\"temperature\":0,\"max_length\":400})\n",
    "\n",
    "print(llm_chain.run(question))"
   ]
  },
  {
   "cell_type": "code",
   "execution_count": 13,
   "metadata": {},
   "outputs": [
    {
     "name": "stdout",
     "output_type": "stream",
     "text": [
      "0.1.6\n"
     ]
    }
   ],
   "source": [
    "import langchain\n",
    "print(langchain.__version__)"
   ]
  },
  {
   "cell_type": "code",
   "execution_count": 14,
   "metadata": {},
   "outputs": [],
   "source": [
    "from langchain.document_loaders import PyPDFLoader\n",
    "\n",
    "loader = PyPDFLoader(\"../data/AC_AR2023_EN.pdf\")\n",
    "pages = loader.load()\n",
    "\n",
    "from langchain.text_splitter import RecursiveCharacterTextSplitter\n",
    "\n",
    "text_splitter = RecursiveCharacterTextSplitter(chunk_size=300,chunk_overlap=50)\n",
    "\n",
    "docs = text_splitter.split_documents(pages[3:5])"
   ]
  },
  {
   "cell_type": "code",
   "execution_count": 28,
   "metadata": {},
   "outputs": [],
   "source": [
    "from langchain_community.embeddings import HuggingFaceBgeEmbeddings\n",
    "from langchain_community.vectorstores import FAISS\n",
    "\n",
    "embeddings = HuggingFaceBgeEmbeddings(model_name=\"sentence-transformers/all-mpnet-base-v2\")\n",
    "\n",
    "db = FAISS.from_documents(docs,embeddings)\n",
    "query = \"what is the Message from the President and Chief Executive Officer\"\n",
    "result_simi = db.similarity_search(query,k=2)"
   ]
  },
  {
   "cell_type": "code",
   "execution_count": 29,
   "metadata": {},
   "outputs": [],
   "source": [
    "source_knowledge = \"\\n\".join([x.page_content for x in result_simi])"
   ]
  },
  {
   "cell_type": "code",
   "execution_count": 30,
   "metadata": {},
   "outputs": [],
   "source": [
    "augmented_propmt = \"\"\"\n",
    "Using the contexts below, answer the query.\n",
    "\n",
    "contexts:\n",
    "{source_knowledge}\n",
    "\n",
    "query:\n",
    "{query}\n",
    "\"\"\""
   ]
  },
  {
   "cell_type": "code",
   "execution_count": 31,
   "metadata": {},
   "outputs": [
    {
     "name": "stdout",
     "output_type": "stream",
     "text": [
      "\n",
      "Using the contexts below, answer the query.\n",
      "\n",
      "contexts:\n",
      "Chief Executive Officer\n",
      "We are in the business of journeys and making \n",
      "meaningful connections. As we reflect on \n",
      "Air Canada’s 2023 performance, I am pleased to \n",
      "share the accomplishments and progress in a year \n",
      "full of challenges and opportunities. We are proud\n",
      "of our achievements and remain committed to \n",
      "creating long-term value for all our stakeholders.\n",
      "\n",
      "query:\n",
      "what is the Message from the President and Chief Executive Officer\n",
      "\n"
     ]
    }
   ],
   "source": [
    "prompt = PromptTemplate(template=augmented_propmt,input_variables=[\"source_knowledge\",\"query\"])\n",
    "\n",
    "llm_chain = LLMChain(llm=llm,prompt=prompt,llm_kwargs={\"temperature\":0,\"max_length\":400})\n",
    "\n",
    "print(llm_chain.run({\"source_knowledge\":source_knowledge,\"query\":query}))"
   ]
  },
  {
   "cell_type": "code",
   "execution_count": 34,
   "metadata": {},
   "outputs": [],
   "source": [
    "augmented_propmt_2 = f\"\"\"Using the contexts below, answer the query.\n",
    "query: {query}\n",
    "contexts: {source_knowledge}\n",
    "\n",
    "\"\"\"\n"
   ]
  },
  {
   "cell_type": "code",
   "execution_count": 35,
   "metadata": {},
   "outputs": [
    {
     "name": "stdout",
     "output_type": "stream",
     "text": [
      "Using the contexts below, answer the query.\n",
      "query: what is the Message from the President and Chief Executive Officer\n",
      "contexts: Chief Executive Officer\n",
      "We are in the business of journeys and making \n",
      "meaningful connections. As we reflect on \n",
      "Air Canada’s 2023 performance, I am pleased to \n",
      "share the accomplishments and progress in a year \n",
      "full of challenges and opportunities. We are proud\n",
      "of our achievements and remain committed to \n",
      "creating long-term value for all our stakeholders.\n",
      "\n",
      "\n"
     ]
    }
   ],
   "source": [
    "print(augmented_propmt_2)"
   ]
  },
  {
   "cell_type": "code",
   "execution_count": 46,
   "metadata": {},
   "outputs": [],
   "source": [
    "docs_part2 = text_splitter.split_documents(pages[32:85])"
   ]
  },
  {
   "cell_type": "code",
   "execution_count": 47,
   "metadata": {},
   "outputs": [],
   "source": [
    "qa_generation_template = \"\"\"You are an assistant that helpe strategists to find information about pricing stratgy, Ancillary Revenue and all metrics.\n",
    "You should focus on the part: 2023 Management's Discussion and Analysis of Results of Operations and Financial Condition\n",
    "You should show all the key takeaways, enhanced with specific metrics and detailed information.\n",
    "\n",
    "You should show the result in well formed stucture, which is easy to understand.\n",
    "For instance:\n",
    "Pricing Strategy:\n",
    "1.Yield Management: The airline experienced a year-over-year increase in yields driven by a strong pricing environment. \n",
    "This was supported by strong demand for premium products across all markets, indicating effective revenue management and pricing strategies .\n",
    "2.Market-Specific Revenue Changes: Specific details on passenger revenues by geographic region for the fourth quarter of 2023 revealed substantial increases, especially in the Pacific and Atlantic regions, which saw 48.1% and 14.8% increases in passenger revenues, respectively. \n",
    "Such growth rates underscore the impact of strategic pricing and capacity management in response to market demand .\n",
    "\n",
    "You answer should try to show all the related metrics, just like the example above.\n",
    "\n",
    "Query Results:\n",
    "{context}\n",
    "\n",
    "Question:\n",
    "{question}\n",
    "\n",
    "If the provided information is empty, say you don't know the answer.\n",
    "Empty information looks like this: []\n",
    "\n",
    "If the information is not empty, you must provide an answer using the results.\n",
    "  \"\"\""
   ]
  },
  {
   "cell_type": "code",
   "execution_count": 48,
   "metadata": {},
   "outputs": [],
   "source": [
    "qa_generation_prompt = PromptTemplate(\n",
    "    input_variables=[\"context\", \"question\"], template=qa_generation_template\n",
    ")"
   ]
  },
  {
   "cell_type": "code",
   "execution_count": 49,
   "metadata": {},
   "outputs": [],
   "source": [
    "from langchain_community.embeddings import HuggingFaceBgeEmbeddings\n",
    "from langchain_community.vectorstores import FAISS\n",
    "\n",
    "#embeddings = HuggingFaceBgeEmbeddings(model_name=\"sentence-transformers/all-mpnet-base-v2\")\n",
    "\n",
    "db = FAISS.from_documents(docs_part2,embeddings)\n",
    "question = \"how is the Air Transat pricing strategy in 2023?\"\n",
    "result_simi = db.similarity_search(query,k=5)"
   ]
  },
  {
   "cell_type": "code",
   "execution_count": 50,
   "metadata": {},
   "outputs": [],
   "source": [
    "context = \"\\n\".join([x.page_content for x in result_simi])"
   ]
  },
  {
   "cell_type": "code",
   "execution_count": 57,
   "metadata": {},
   "outputs": [
    {
     "name": "stdout",
     "output_type": "stream",
     "text": [
      "You are an assistant that helpe strategists to find information about pricing stratgy, Ancillary Revenue and all metrics.\n",
      "You should focus on the part: 2023 Management's Discussion and Analysis of Results of Operations and Financial Condition\n",
      "You should show all the key takeaways, enhanced with specific metrics and detailed information.\n",
      "\n",
      "You should show the result in well formed stucture, which is easy to understand.\n",
      "For instance:\n",
      "Pricing Strategy:\n",
      "1.Yield Management: The airline experienced a year-over-year increase in yields driven by a strong pricing environment. \n",
      "This was supported by strong demand for premium products across all markets, indicating effective revenue management and pricing strategies .\n",
      "2.Market-Specific Revenue Changes: Specific details on passenger revenues by geographic region for the fourth quarter of 2023 revealed substantial increases, especially in the Pacific and Atlantic regions, which saw 48.1% and 14.8% increases in passenger revenues, respectively. \n",
      "Such growth rates underscore the impact of strategic pricing and capacity management in response to market demand .\n",
      "\n",
      "You answer should try to show all the related metrics, just like the example above.\n",
      "\n",
      "Query Results:\n",
      "|   73\n",
      "ANNUAL REPORT 2023increase in new routings and discounted and promotional fares \n",
      "initiated by Air  Canada’s competitors. Competitors also continue \n",
      "to pursue commissions and incentive actions and, in many cases, \n",
      "increase these payments. Air Canada’s ability to reduce its fares in\n",
      "margins, profitably deploy additional capacity, generate sufficient \n",
      "returns on its capital expenditures or offset or mitigate risks \n",
      "facing Air Canada, including those described in this MD&A.\n",
      "Fares and market demand  – Fluctuations in fares and\n",
      "72   |\n",
      "ANNUAL REPORT 2023Risk Factors 18\n",
      "The risks described below should be read carefully when \n",
      "evaluating Air  Canada’s business and the forward-looking \n",
      "statements contained in this report and other statements \n",
      "Air Canada may make from time to time. Any of these risks,\n",
      "to the developing design and specifications of the aircraft, the final cost is not yet determinable and is not included in the table below, \n",
      "however the agreement provides for a price cap. The regional aircraft are expected to enter service in 2028. \n",
      "Capital Commitments\n",
      "profit reallocation to market jurisdictions. Air Canada cannot \n",
      "predict whether, or the manner in which, proposed domestic \n",
      "and international laws (including in respect of the work of the \n",
      "OECD Inclusive Framework), regulations and administrative\n",
      "\n",
      "Question:\n",
      "What is the capital of France?\n",
      "\n",
      "If the provided information is empty, say you don't know the answer.\n",
      "Empty information looks like this: []\n",
      "\n",
      "If the information is not empty, you must provide an answer using the results.\n",
      "  \n"
     ]
    }
   ],
   "source": [
    "llm = HuggingFaceHub(repo_id=repo_id,huggingfacehub_api_token=os.environ[\"HUGGINGFACE_API_TOKEN\"])\n",
    "llm_chain = LLMChain(llm=llm,prompt=qa_generation_prompt,llm_kwargs={\"temperature\":0,\"max_length\":400})\n",
    "print(llm_chain.run({\"context\":context,\"question\":question}))"
   ]
  }
 ],
 "metadata": {
  "kernelspec": {
   "display_name": "Python 3",
   "language": "python",
   "name": "python3"
  },
  "language_info": {
   "codemirror_mode": {
    "name": "ipython",
    "version": 3
   },
   "file_extension": ".py",
   "mimetype": "text/x-python",
   "name": "python",
   "nbconvert_exporter": "python",
   "pygments_lexer": "ipython3",
   "version": "3.11.1"
  }
 },
 "nbformat": 4,
 "nbformat_minor": 2
}
